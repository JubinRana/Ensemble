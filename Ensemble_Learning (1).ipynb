{
  "nbformat": 4,
  "nbformat_minor": 0,
  "metadata": {
    "colab": {
      "provenance": []
    },
    "kernelspec": {
      "name": "python3",
      "display_name": "Python 3"
    },
    "language_info": {
      "name": "python"
    }
  },
  "cells": [
    {
      "cell_type": "markdown",
      "source": [
        "**THEORATICAL QUESTIONS**"
      ],
      "metadata": {
        "id": "y7q6tAbD-ASh"
      }
    },
    {
      "cell_type": "markdown",
      "source": [
        "1/.\n",
        "-\n",
        "Yes, Bagging can be used for regression problems.\n",
        "Bagging works for Regression:\n",
        "\n",
        "Reduces Variance: Bagging, or Bootstrap Aggregating, is an ensemble method that aims to reduce the variance of a model. It does this by training multiple base models on different subsets of the training data and then averaging their predictions. This averaging smooths out the predictions and makes the model less sensitive to the specific training data it was trained on, thus reducing overfitting.\n",
        "\n",
        "Improves Stability: By training on different subsets of data, Bagging creates diverse base models. When these diverse models are combined, the overall model becomes more stable and less prone to the influence of outliers or noise in the data"
      ],
      "metadata": {
        "id": "51h6u7zV-IdI"
      }
    },
    {
      "cell_type": "markdown",
      "source": [
        "2/\n",
        "-\n",
        "Single Model Training\n",
        "\n",
        "In single model training, you train one model on your entire dataset. This model is then used to make predictions on new data. Single model training is straightforward and often requires less computational resources compared to multiple model training.\n",
        "\n",
        "Multiple Model Training\n",
        "\n",
        "In multiple model training, you train several models on different subsets of the data or using different algorithms. These models are then combined to produce a final prediction. This approach can lead to more robust and accurate predictions."
      ],
      "metadata": {
        "id": "EkmLpNyu-jU0"
      }
    },
    {
      "cell_type": "markdown",
      "source": [
        "3/  \n",
        "-\n",
        "Feature randomness, also known as feature bagging or the random subspace method, is a crucial aspect of the Random Forest algorithm. It introduces randomness during the construction of individual decision trees within the forest.\n",
        "\n",
        "Here's how it works:\n",
        "\n",
        "Subset of Features: When building each decision tree in a Random Forest, instead of considering all available features for splitting a node, only a random subset of features is selected.\n",
        "\n",
        "Random Selection: The number of features considered for each split is typically denoted by max_features and is a hyperparameter of the Random Forest algorithm.\n",
        "\n",
        "Diversity and Decorrelation: By considering only a subset of features at each split, feature randomness introduces diversity among the trees in the forest. This helps to decorrelate the trees, reducing the impact of any single feature on the overall prediction."
      ],
      "metadata": {
        "id": "34KQL7at-9E6"
      }
    },
    {
      "cell_type": "markdown",
      "source": [
        "4/.\n",
        "-\n",
        "OOB (Out-of-Bag) Score is a method for evaluating the performance of a Random Forest model without the need for a separate validation dataset. It utilizes the training data itself to estimate the model's accuracy."
      ],
      "metadata": {
        "id": "bjz_Jvik_UKf"
      }
    },
    {
      "cell_type": "markdown",
      "source": [
        "5/\n",
        "-\n",
        "Random Forest models offer a built-in mechanism to assess feature importance, which helps us understand which features contribute most to the model's predictive power. This information is valuable for feature selection, model interpretation, and gaining insights into the data.\n",
        "\n",
        "common ways to measure feature importance in a Random Forest model:\n",
        "\n",
        "1. Mean Decrease in Impurity (MDI) / Gini Importance:\n",
        "\n",
        "Concept: This method calculates the total reduction in node impurity (Gini impurity for classification, variance for regression) achieved by a feature across all trees in the forest. Features that contribute to larger decreases in impurity are considered more important.\n",
        "Calculation: For each feature, the decrease in impurity for each split where the feature is used is accumulated across all trees. Then, the average decrease in impurity over all trees is calculated, giving the feature importance score.\n",
        "Access in scikit-learn: After training a Random Forest model (e.g., RandomForestClassifier or RandomForestRegressor), you can access the feature importances using the feature_importances_ attribute.\n",
        "\n",
        "2. Mean Decrease in Accuracy (MDA) / Permutation Importance:\n",
        "\n",
        "Concept: This method measures the decrease in model accuracy when the values of a feature are randomly permuted. If shuffling the values of a feature significantly reduces accuracy, it indicates that the feature is important.\n",
        "Calculation: For each feature, the values are randomly shuffled, and the model's performance (e.g., accuracy) is evaluated on the permuted data. The difference in performance compared to the original data is the feature importance score.\n",
        "Implementation in scikit-learn: You can use the permutation_importance function from sklearn.inspection to calculate permutation importance for a trained Random Forest model."
      ],
      "metadata": {
        "id": "ddBTUMvv_Ulk"
      }
    },
    {
      "cell_type": "markdown",
      "source": [
        "6/\n",
        "Bagging, short for Bootstrap Aggregating, is an ensemble learning method that aims to improve the accuracy and stability of machine learning models, particularly for classification tasks.\n",
        "\n",
        " how a Bagging Classifier works:\n",
        "\n",
        "Bootstrap Sampling:\n",
        "\n",
        "The Bagging Classifier starts by creating multiple subsets of the original training data using a technique called bootstrapping.\n",
        "In bootstrapping, random samples are drawn with replacement from the training data. Each sample is of the same size as the original dataset, but some data points may be repeated while others might be left out.\n",
        "This process creates diverse subsets, each representing a slightly different view of the training data.\n",
        "\n",
        "Training Base Classifiers:\n",
        "\n",
        "A base classifier (e.g., a Decision Tree) is trained independently on each bootstrap sample.\n",
        "These base classifiers are typically weak learners, meaning they may not be highly accurate on their own.\n",
        "The diversity in the training subsets helps to create a variety of base classifiers with different strengths and weaknesses.\n",
        "\n",
        "Aggregating Predictions:\n",
        "\n",
        "When making predictions on new data, each base classifier provides its individual prediction.\n",
        "The Bagging Classifier then combines these predictions using a voting mechanism (for classification) or averaging (for regression).\n",
        "For classification, the final prediction is the class that receives the most votes from the base classifiers."
      ],
      "metadata": {
        "id": "95MAWN60_VCs"
      }
    },
    {
      "cell_type": "markdown",
      "source": [
        "7/\n",
        "some common methods for evaluating a Bagging Classifier's performance:\n",
        "\n",
        "Accuracy: Accuracy is the most straightforward metric, representing the percentage of correctly classified instances. It's calculated as the number of correct predictions divided by the total number of predictions.\n",
        "\n",
        "Precision and Recall: Precision measures the proportion of true positive predictions among all positive predictions, while recall measures the proportion of true positive predictions among all actual positive instances. These metrics are particularly useful when dealing with imbalanced datasets.\n",
        "\n",
        "F1-Score: The F1-score is the harmonic mean of precision and recall, providing a balanced measure of both metrics. It's a good choice when you want to consider both false positives and false negatives.\n",
        "\n",
        "ROC Curve and AUC: The Receiver Operating Characteristic (ROC) curve plots the true positive rate against the false positive rate at various classification thresholds. The area under the ROC curve (AUC) is a measure of the classifier's overall performance, with higher values indicating better performance.\n",
        "\n",
        "Cross-Validation: Cross-validation is a technique for evaluating a model's performance on unseen data by splitting the data into multiple folds and training and testing the model on different combinations of folds. This helps to get a more robust estimate of the model's generalization ability."
      ],
      "metadata": {
        "id": "WF9uxQoC_Wpd"
      }
    },
    {
      "cell_type": "markdown",
      "source": [
        "8/\n",
        "\n",
        "-\n",
        "A Bagging Regressor is an ensemble learning method used for regression tasks. It builds upon the concept of Bagging (Bootstrap Aggregating) to improve the accuracy and stability of regression models.\n",
        "\n",
        "Here's how it works:\n",
        "\n",
        "Bootstrap Sampling:\n",
        "\n",
        "Similar to the Bagging Classifier, the Bagging Regressor starts by creating multiple subsets of the original training data using bootstrapping.\n",
        "Random samples are drawn with replacement from the training data to create these subsets.\n",
        "Each bootstrap sample is of the same size as the original dataset, but some data points may be repeated while others might be left out.\n",
        "\n",
        "Training Base Regressors:\n",
        "\n",
        "A base regressor (e.g., a Decision Tree Regressor) is trained independently on each bootstrap sample.\n",
        "These base regressors can be any regression model, but Decision Trees are commonly used due to their flexibility.\n",
        "\n",
        "Aggregating Predictions:\n",
        "\n",
        "When making predictions on new data, each base regressor provides its individual prediction.\n",
        "The Bagging Regressor then combines these predictions by averaging them to produce the final prediction.\n",
        "This averaging process helps to reduce the variance and improve the overall accuracy of the model."
      ],
      "metadata": {
        "id": "W9VJMIYi_WZw"
      }
    },
    {
      "cell_type": "markdown",
      "source": [
        "9/  \n",
        "\n",
        "-\n",
        "Ensemble techniques in machine learning combine multiple models to improve overall predictive performance. The primary advantage is that they often achieve higher accuracy and robustness compared to individual models.\n",
        "\n",
        "Reasoning:\n",
        "\n",
        "Reduced Variance: By combining predictions from multiple models, ensemble methods effectively average out errors and reduce the variance of the final prediction. This makes the model less sensitive to noise or outliers in the training data.\n",
        "Improved Generalization: Ensemble methods often generalize better to unseen data, meaning they are less prone to overfitting. This is because the diverse models in the ensemble capture different aspects of the data, leading to a more comprehensive understanding."
      ],
      "metadata": {
        "id": "C7kuw9cx_WEZ"
      }
    },
    {
      "cell_type": "markdown",
      "source": [
        "10/\n",
        "-\n",
        "Main Challenge of Ensemble Methods\n",
        "\n",
        "The main challenge of ensemble methods is the increased computational cost and complexity compared to using a single model.\n",
        "\n",
        "Reasoning:\n",
        "\n",
        "Computational Cost: Ensemble methods require training and maintaining multiple models, which can significantly increase computational resources and time, especially for large datasets or complex models.\n",
        "Complexity: Managing and interpreting an ensemble of models can be more complex than dealing with a single model. Understanding the interactions and contributions of individual models can be challenging.\n"
      ],
      "metadata": {
        "id": "Y79GWZRG_Vgo"
      }
    },
    {
      "cell_type": "markdown",
      "source": [
        "11/ What is a Random Forest Classifier.\n",
        "-\n",
        "The Random Forest Classifier is an ensemble learning method used for classification tasks. It combines the predictions of multiple decision trees to make a more accurate and robust prediction."
      ],
      "metadata": {
        "id": "RWp423Pk69Tq"
      }
    },
    {
      "cell_type": "markdown",
      "source": [
        "12/\n",
        "\n",
        "-\n",
        "Main Types of Ensemble Techniques\n",
        "\n",
        "Ensemble techniques in machine learning can be broadly categorized into three main types:\n",
        "\n",
        "Bagging:\n",
        "\n",
        "Concept: Bagging, short for Bootstrap Aggregating, involves training multiple base models (typically the same type) on different subsets of the training data, created by random sampling with replacement (bootstrapping). The predictions from these base models are then combined to produce a final prediction.\n",
        "Example: Random Forest is a popular bagging algorithm that uses decision trees as base models.\n",
        "Advantages: Reduces variance and overfitting, improves stability, and handles high-dimensional data well.\n",
        "\n",
        "Boosting:\n",
        "\n",
        "Concept: Boosting focuses on sequentially training base models, where each subsequent model learns from the mistakes of the previous models. The base models are typically weak learners, but they are combined to create a strong learner.\n",
        "Example: AdaBoost, Gradient Boosting, and XGBoost are popular boosting algorithms.\n",
        "Advantages: High accuracy, handles complex relationships in data, and can improve performance on difficult tasks.\n",
        "\n",
        "Stacking:\n",
        "\n",
        "Concept: Stacking involves training multiple base models (potentially of different types) and then using a meta-learner to combine their predictions. The meta-learner learns how to best weight the predictions from the base models to produce a final prediction.\n",
        "Example: Stacking can combine models like logistic regression, support vector machines, and decision trees.\n",
        "Advantages: Can potentially achieve higher accuracy than individual models or bagging/boosting, and leverages the strengths of different models"
      ],
      "metadata": {
        "id": "YdGv46i57OHL"
      }
    },
    {
      "cell_type": "markdown",
      "source": [
        "13/  What is ensemble learning in machine learning.\n",
        "-\n",
        "Ensemble learning is a machine learning technique that combines multiple individual models (often referred to as \"base learners\" or \"weak learners\") to create a more powerful and accurate model, called an \"ensemble.\" The idea is that by combining the predictions of multiple models, the ensemble can achieve better performance than any single model alone."
      ],
      "metadata": {
        "id": "Kvw4q2BQ7Ot8"
      }
    },
    {
      "cell_type": "markdown",
      "source": [
        "14/\n",
        "-\n",
        "How Bagging Works to Reduce Overfitting:\n",
        "\n",
        "Bootstrap Sampling: Bagging creates multiple subsets of the training data using bootstrapping, where random samples are drawn with replacement. This means some data points may be repeated in a subset, while others may be left out. Each subset is the same size as the original dataset.\n",
        "\n",
        "Training Base Models: A base model (e.g., a decision tree) is trained independently on each bootstrap sample. This creates a diverse set of models, each with a slightly different perspective on the data.\n",
        "\n",
        "Aggregating Predictions: When making predictions on new data, each base model provides its individual prediction. Bagging then combines these predictions using averaging (for regression) or voting (for classification)."
      ],
      "metadata": {
        "id": "wiNOpsxK7QOm"
      }
    },
    {
      "cell_type": "markdown",
      "source": [
        "15/ Why is Random Forest better than a single Decision Tree.\n",
        "-\n",
        "While a single Decision Tree can be a powerful model, Random Forest, an ensemble method built on multiple Decision Trees, often outperforms it due to several key advantages:\n",
        "\n",
        "1. Reduced Overfitting:\n",
        "\n",
        "Decision Trees: Prone to overfitting, especially when grown deep to capture complex relationships in data. They can become too specific to the training data, resulting in poor generalization to new, unseen data.\n",
        "Random Forest: By combining multiple trees trained on different subsets of the data and features, Random Forest significantly reduces overfitting. The averaging or voting process smooths out the predictions, making the model less sensitive to noise and outliers in the training data.\n",
        "2. Improved Accuracy:\n",
        "\n",
        "Decision Trees: While capable of capturing complex patterns, their predictions can be unstable and vary significantly with small changes in the training data.\n",
        "Random Forest: The ensemble nature of Random Forest leads to more stable and accurate predictions. The aggregation of multiple tree predictions reduces the impact of individual tree errors, resulting in a more robust and accurate overall prediction.\n",
        "3. Feature Importance:\n",
        "\n",
        "Decision Trees: Offer some insights into feature importance, but their reliance on a single tree can make this information less reliable.\n",
        "Random Forest: Provides a more comprehensive and robust measure of feature importance by considering the contribution of each feature across all trees in the forest. This information can be valuable for feature selection and understanding the data.\n",
        "4. Handling Missing Values:\n",
        "\n",
        "Decision Trees: Can struggle with missing values, requiring imputation or removal of data points with missing values.\n",
        "Random Forest: Can handle missing values more effectively by using proximity measures or imputation techniques within the individual trees."
      ],
      "metadata": {
        "id": "Ld31oRZq7PTc"
      }
    },
    {
      "cell_type": "markdown",
      "source": [
        "16/\n",
        "-\n",
        "Role of Bootstrap Sampling:\n",
        "\n",
        "Creating Diverse Training Subsets: Bootstrap sampling is used to create multiple subsets of the original training data. In bootstrapping, random samples are drawn with replacement from the training data. This means that some data points may be repeated in a subset, while others might be left out. Each subset is of the same size as the original dataset, but they are different due to the random sampling process.\n",
        "\n",
        "Introducing Diversity in Base Models: These diverse training subsets are then used to train individual base models (e.g., decision trees). By training on different subsets, each base model learns a slightly different perspective of the data. This diversity in the base models is key to the success of bagging.\n",
        "\n",
        "Reducing Variance and Overfitting: When making predictions on new data, each base model provides its individual prediction. Bagging then combines these predictions using a voting mechanism (for classification) or averaging (for regression). This aggregation process helps to reduce the variance of the final prediction and makes the model less sensitive to the specific training data it was trained on, thus reducing overfitting."
      ],
      "metadata": {
        "id": "YvHaGvQv8YNE"
      }
    },
    {
      "cell_type": "markdown",
      "source": [
        "17/ What is the difference between Bagging and Boosting.\n",
        "-\n",
        "Bagging vs. Boosting\n",
        "\n",
        "Bagging and Boosting are both ensemble methods in machine learning that combine multiple base learners to improve predictive performance. However, they differ significantly in their approach:\n",
        "\n",
        "Bagging (Bootstrap Aggregating)\n",
        "\n",
        "Concept: Trains multiple base learners independently and in parallel on different subsets of the training data created using bootstrapping (random sampling with replacement). The final prediction is obtained by averaging (regression) or voting (classification) the predictions of individual learners.\n",
        "Focus: Primarily aims to reduce variance and overfitting by creating diverse base learners.\n",
        "Base Learners: Typically uses strong learners (e.g., fully grown decision trees) that have low bias but high variance.\n",
        "Example: Random Forest.\n",
        "Boosting\n",
        "\n",
        "Concept: Trains base learners sequentially, where each subsequent learner focuses on correcting the mistakes of the previous learners. The final prediction is a weighted combination of the predictions of all learners.\n",
        "Focus: Primarily aims to reduce bias and improve accuracy by iteratively refining the model.\n",
        "Base Learners: Typically uses weak learners (e.g., shallow decision trees) that have high bias but low variance.\n",
        "Example: AdaBoost, Gradient Boosting, XGBoost."
      ],
      "metadata": {
        "id": "oh0iCVsW8Y1-"
      }
    },
    {
      "cell_type": "markdown",
      "source": [
        "18/\n",
        "-\n",
        "Okay, here are some real-world applications of ensemble techniques:\n",
        "\n",
        "Real-World Applications of Ensemble Techniques\n",
        "\n",
        "Ensemble techniques are widely used in various domains due to their ability to improve predictive performance and robustness. Here are some notable examples:\n",
        "\n",
        "1. Fraud Detection:\n",
        "\n",
        "Problem: Identifying fraudulent transactions in financial systems.\n",
        "Ensemble Approach: Combining multiple models, such as rule-based systems, anomaly detection algorithms, and machine learning classifiers, to detect patterns indicative of fraud.\n",
        "Benefits: Improved accuracy in identifying fraudulent transactions, reducing financial losses.\n",
        "2. Medical Diagnosis:\n",
        "\n",
        "Problem: Assisting doctors in diagnosing diseases based on patient data.\n",
        "Ensemble Approach: Combining predictions from multiple medical imaging techniques, lab results, and patient history to improve diagnostic accuracy.\n",
        "Benefits: Enhanced accuracy in disease detection, leading to earlier and more effective treatment.\n",
        "3. Credit Risk Assessment:\n",
        "\n",
        "Problem: Evaluating the creditworthiness of loan applicants.\n",
        "Ensemble Approach: Combining various credit scoring models and financial indicators to predict the likelihood of loan default.\n",
        "Benefits: More accurate risk assessment, helping financial institutions make informed lending decisions.\n",
        "4. Customer Churn Prediction:\n",
        "\n",
        "Problem: Identifying customers who are likely to discontinue using a service.\n",
        "Ensemble Approach: Combining customer demographics, usage patterns, and feedback data to predict churn probability.\n",
        "Benefits: Proactive measures to retain customers, reducing churn rates and increasing customer lifetime value."
      ],
      "metadata": {
        "id": "rKVMT3NF8826"
      }
    },
    {
      "cell_type": "markdown",
      "source": [
        "**PRACTICAL QUESTIONS**"
      ],
      "metadata": {
        "id": "cYyQyyqD9MBt"
      }
    },
    {
      "cell_type": "markdown",
      "source": [
        "1/ Train a Bagging Classifier using Decision Trees on a sample dataset and print model accuracy."
      ],
      "metadata": {
        "id": "Jig0u96d9RBG"
      }
    },
    {
      "cell_type": "code",
      "source": [
        "from sklearn.ensemble import BaggingClassifier\n",
        "from sklearn.tree import DecisionTreeClassifier\n",
        "from sklearn.datasets import load_iris\n",
        "from sklearn.model_selection import train_test_split\n",
        "from sklearn.metrics import accuracy_score\n",
        "\n",
        "\n",
        "iris = load_iris()\n",
        "X, y = iris.data, iris.target\n",
        "\n",
        "\n",
        "X_train, X_test, y_train, y_test = train_test_split(X, y, test_size=0.3, random_state=42)\n",
        "\n",
        "# Create a Decision Tree Classifier as the base estimator\n",
        "base_estimator = DecisionTreeClassifier()\n",
        "\n",
        "\n",
        "bagging_classifier = BaggingClassifier(estimator=base_estimator, n_estimators=100, random_state=42)\n",
        "\n",
        "\n",
        "bagging_classifier.fit(X_train, y_train)\n",
        "\n",
        "\n",
        "y_pred = bagging_classifier.predict(X_test)\n",
        "\n",
        "\n",
        "accuracy = accuracy_score(y_test, y_pred)\n",
        "print(f\"Accuracy: {accuracy}\")"
      ],
      "metadata": {
        "colab": {
          "base_uri": "https://localhost:8080/"
        },
        "id": "CjhYI5DD9u9F",
        "outputId": "6a7d476a-0fe7-474f-ec26-2865f15d626f"
      },
      "execution_count": null,
      "outputs": [
        {
          "output_type": "stream",
          "name": "stdout",
          "text": [
            "Accuracy: 1.0\n"
          ]
        }
      ]
    },
    {
      "cell_type": "markdown",
      "source": [
        "2/ Train a Bagging Regressor using Decision Trees and evaluate using Mean Squared Error (MSE)."
      ],
      "metadata": {
        "id": "vd9Y-nqf9dqY"
      }
    },
    {
      "cell_type": "code",
      "source": [
        "from sklearn.ensemble import BaggingRegressor\n",
        "from sklearn.tree import DecisionTreeRegressor\n",
        "from sklearn.model_selection import train_test_split\n",
        "from sklearn.metrics import mean_squared_error\n",
        "\n",
        "iris = load_iris()\n",
        "X, y = iris.data, iris.target\n",
        "\n",
        "X_train, X_test, y_train, y_test = train_test_split(X, y, test_size=0.3, random_state=42)\n",
        "\n",
        "\n",
        "base_estimator = DecisionTreeRegressor()\n",
        "\n",
        "\n",
        "bagging_regressor = BaggingRegressor(estimator=base_estimator, n_estimators=100, random_state=42)\n",
        "\n",
        "\n",
        "bagging_regressor.fit(X_train, y_train)\n",
        "\n",
        "\n",
        "y_pred = bagging_regressor.predict(X_test)\n",
        "\n",
        "\n",
        "mse = mean_squared_error(y_test, y_pred)\n",
        "print(f\"Mean Squared Error (MSE): {mse}\")\n",
        "\n"
      ],
      "metadata": {
        "colab": {
          "base_uri": "https://localhost:8080/"
        },
        "id": "k3n4vv_89eF5",
        "outputId": "7ca26803-24ff-45f2-bcb4-71e351f41979"
      },
      "execution_count": null,
      "outputs": [
        {
          "output_type": "stream",
          "name": "stdout",
          "text": [
            "Mean Squared Error (MSE): 0.0003688888888888895\n"
          ]
        }
      ]
    },
    {
      "cell_type": "markdown",
      "source": [
        "3/  Train a Random Forest Classifier on the Breast Cancer dataset and print feature importance scores."
      ],
      "metadata": {
        "id": "ms9l-iw2-g--"
      }
    },
    {
      "cell_type": "code",
      "source": [
        "from sklearn.ensemble import RandomForestClassifier\n",
        "from sklearn.datasets import load_breast_cancer\n",
        "from sklearn.model_selection import train_test_split\n",
        "import pandas as pd\n",
        "\n",
        "\n",
        "breast_cancer = load_breast_cancer()\n",
        "X, y = breast_cancer.data, breast_cancer.target\n",
        "\n",
        "\n",
        "X_train, X_test, y_train, y_test = train_test_split(X, y, test_size=0.3, random_state=42)\n",
        "\n",
        "\n",
        "rf_classifier = RandomForestClassifier(n_estimators=100, random_state=42)\n",
        "\n",
        "\n",
        "rf_classifier.fit(X_train, y_train)\n",
        "\n",
        "\n",
        "feature_importances = rf_classifier.feature_importances_\n",
        "\n",
        "\n",
        "feature_importance_df = pd.DataFrame({\n",
        "    'Feature': breast_cancer.feature_names,\n",
        "    'Importance': feature_importances\n",
        "})\n",
        "\n",
        "\n",
        "feature_importance_df = feature_importance_df.sort_values(by='Importance', ascending=False)\n",
        "\n",
        "\n",
        "print(feature_importance_df)"
      ],
      "metadata": {
        "colab": {
          "base_uri": "https://localhost:8080/"
        },
        "id": "TFktJQ35-V2z",
        "outputId": "3fdbd74c-1b2d-45df-f9d3-a80fe807a887"
      },
      "execution_count": null,
      "outputs": [
        {
          "output_type": "stream",
          "name": "stdout",
          "text": [
            "                    Feature  Importance\n",
            "7       mean concave points    0.141934\n",
            "27     worst concave points    0.127136\n",
            "23               worst area    0.118217\n",
            "6            mean concavity    0.080557\n",
            "20             worst radius    0.077975\n",
            "22          worst perimeter    0.074292\n",
            "2            mean perimeter    0.060092\n",
            "3                 mean area    0.053810\n",
            "26          worst concavity    0.041080\n",
            "0               mean radius    0.032312\n",
            "13               area error    0.029538\n",
            "21            worst texture    0.018786\n",
            "25        worst compactness    0.017539\n",
            "10             radius error    0.016435\n",
            "28           worst symmetry    0.012929\n",
            "12          perimeter error    0.011770\n",
            "24         worst smoothness    0.011769\n",
            "1              mean texture    0.011064\n",
            "5          mean compactness    0.009216\n",
            "19  fractal dimension error    0.007135\n",
            "29  worst fractal dimension    0.006924\n",
            "4           mean smoothness    0.006223\n",
            "14         smoothness error    0.005881\n",
            "16          concavity error    0.005816\n",
            "15        compactness error    0.004596\n",
            "18           symmetry error    0.004001\n",
            "17     concave points error    0.003382\n",
            "8             mean symmetry    0.003278\n",
            "11            texture error    0.003172\n",
            "9    mean fractal dimension    0.003140\n"
          ]
        }
      ]
    },
    {
      "cell_type": "markdown",
      "source": [
        "4/ Train a Random Forest Regressor and compare its performance with a single Decision Tree."
      ],
      "metadata": {
        "id": "7iK9XJ2KAZdc"
      }
    },
    {
      "cell_type": "code",
      "source": [
        "from sklearn.ensemble import RandomForestRegressor\n",
        "from sklearn.tree import DecisionTreeRegressor\n",
        "\n",
        "from sklearn.model_selection import train_test_split\n",
        "from sklearn.metrics import mean_squared_error\n",
        "\n",
        "iris = load_iris()\n",
        "X, y = iris.data, iris.target\n",
        "\n",
        "\n",
        "X_train, X_test, y_train, y_test = train_test_split(X, y, test_size=0.3, random_state=42)\n",
        "\n",
        "\n",
        "rf_regressor = RandomForestRegressor(n_estimators=100, random_state=42)\n",
        "rf_regressor.fit(X_train, y_train)\n",
        "\n",
        "\n",
        "dt_regressor = DecisionTreeRegressor(random_state=42)\n",
        "dt_regressor.fit(X_train, y_train)\n",
        "\n",
        "\n",
        "rf_predictions = rf_regressor.predict(X_test)\n",
        "dt_predictions = dt_regressor.predict(X_test)\n",
        "\n",
        "\n",
        "rf_mse = mean_squared_error(y_test, rf_predictions)\n",
        "dt_mse = mean_squared_error(y_test, dt_predictions)\n",
        "\n",
        "print(f\"Random Forest MSE: {rf_mse}\")\n",
        "print(f\"Decision Tree MSE: {dt_mse}\")\n",
        "\n",
        "\n",
        "print(f\"Random Forest performs better than Decision Tree: {rf_mse < dt_mse}\")"
      ],
      "metadata": {
        "colab": {
          "base_uri": "https://localhost:8080/"
        },
        "id": "BvqhMmE2AVUl",
        "outputId": "1eb7ea06-81ca-485b-a157-125bd1938085"
      },
      "execution_count": null,
      "outputs": [
        {
          "output_type": "stream",
          "name": "stdout",
          "text": [
            "Random Forest MSE: 0.00034000000000000057\n",
            "Decision Tree MSE: 0.0\n",
            "Random Forest performs better than Decision Tree: False\n"
          ]
        }
      ]
    },
    {
      "cell_type": "markdown",
      "source": [
        "5/ Compute the Out-of-Bag (OOB) Score for a Random Forest Classifier."
      ],
      "metadata": {
        "id": "RGMCTSpKEvoq"
      }
    },
    {
      "cell_type": "code",
      "source": [
        "from sklearn.ensemble import RandomForestClassifier\n",
        "from sklearn.datasets import load_breast_cancer\n",
        "from sklearn.model_selection import train_test_split\n",
        "\n",
        "\n",
        "breast_cancer = load_breast_cancer()\n",
        "X, y = breast_cancer.data, breast_cancer.target\n",
        "\n",
        "\n",
        "X_train, X_test, y_train, y_test = train_test_split(X, y, test_size=0.3, random_state=42)\n",
        "\n",
        "\n",
        "rf_classifier = RandomForestClassifier(n_estimators=100, oob_score=True, random_state=42)\n",
        "\n",
        "\n",
        "rf_classifier.fit(X_train, y_train)\n",
        "\n",
        "\n",
        "oob_score = rf_classifier.oob_score_\n",
        "\n",
        "\n",
        "print(f\"OOB Score: {oob_score}\")"
      ],
      "metadata": {
        "colab": {
          "base_uri": "https://localhost:8080/"
        },
        "id": "akZxvAscD3h2",
        "outputId": "0f78d4f1-99da-4c66-d849-1fef99e4f221"
      },
      "execution_count": null,
      "outputs": [
        {
          "output_type": "stream",
          "name": "stdout",
          "text": [
            "OOB Score: 0.9547738693467337\n"
          ]
        }
      ]
    },
    {
      "cell_type": "markdown",
      "source": [
        "6/ Train a Bagging Classifier using SVM as a base estimator and print accuracy."
      ],
      "metadata": {
        "id": "kyxuDKrFFq_e"
      }
    },
    {
      "cell_type": "code",
      "source": [
        "from sklearn.ensemble import BaggingClassifier\n",
        "from sklearn.svm import SVC\n",
        "from sklearn.datasets import load_breast_cancer\n",
        "from sklearn.model_selection import train_test_split\n",
        "from sklearn.metrics import accuracy_score\n",
        "\n",
        "\n",
        "breast_cancer = load_breast_cancer()\n",
        "X, y = breast_cancer.data, breast_cancer.target\n",
        "\n",
        "\n",
        "X_train, X_test, y_train, y_test = train_test_split(X, y, test_size=0.3, random_state=42)\n",
        "\n",
        "\n",
        "base_estimator = SVC()\n",
        "\n",
        "\n",
        "bagging_classifier = BaggingClassifier(estimator=base_estimator, n_estimators=10, random_state=42)\n",
        "\n",
        "\n",
        "bagging_classifier.fit(X_train, y_train)\n",
        "\n",
        "\n",
        "y_pred = bagging_classifier.predict(X_test)\n",
        "\n",
        "\n",
        "accuracy = accuracy_score(y_test, y_pred)\n",
        "print(f\"Accuracy: {accuracy}\")"
      ],
      "metadata": {
        "colab": {
          "base_uri": "https://localhost:8080/"
        },
        "id": "iKWmd3r8FWHj",
        "outputId": "d34aa60f-f816-48a3-a088-f73ea2f1dab6"
      },
      "execution_count": null,
      "outputs": [
        {
          "output_type": "stream",
          "name": "stdout",
          "text": [
            "Accuracy: 0.9415204678362573\n"
          ]
        }
      ]
    },
    {
      "cell_type": "markdown",
      "source": [
        "7/ Train a Bagging Classifier using Logistic Regression as a base estimator and print AUC score."
      ],
      "metadata": {
        "id": "nUIsy8aeFsUK"
      }
    },
    {
      "cell_type": "code",
      "source": [
        "from sklearn.ensemble import BaggingClassifier\n",
        "from sklearn.linear_model import LogisticRegression\n",
        "from sklearn.datasets import load_breast_cancer\n",
        "from sklearn.model_selection import train_test_split\n",
        "from sklearn.metrics import roc_auc_score\n",
        "\n",
        "# Load the Breast Cancer dataset\n",
        "breast_cancer = load_breast_cancer()\n",
        "X, y = breast_cancer.data, breast_cancer.target\n",
        "\n",
        "\n",
        "X_train, X_test, y_train, y_test = train_test_split(X, y, test_size=0.3, random_state=42)\n",
        "\n",
        "\n",
        "base_estimator = LogisticRegression(max_iter=1000)\n",
        "\n",
        "\n",
        "bagging_classifier = BaggingClassifier(estimator=base_estimator, n_estimators=10, random_state=42)\n",
        "\n",
        "\n",
        "bagging_classifier.fit(X_train, y_train)\n",
        "\n",
        "\n",
        "y_pred_prob = bagging_classifier.predict_proba(X_test)[:, 1]\n",
        "\n",
        "\n",
        "auc_score = roc_auc_score(y_test, y_pred_prob)\n",
        "print(f\"AUC Score: {auc_score}\")"
      ],
      "metadata": {
        "id": "QnO0hN6QFswU",
        "colab": {
          "base_uri": "https://localhost:8080/"
        },
        "outputId": "e4c3a264-327b-4d17-e3c7-e169190ae384"
      },
      "execution_count": null,
      "outputs": [
        {
          "output_type": "stream",
          "name": "stderr",
          "text": [
            "/usr/local/lib/python3.11/dist-packages/sklearn/linear_model/_logistic.py:465: ConvergenceWarning: lbfgs failed to converge (status=1):\n",
            "STOP: TOTAL NO. of ITERATIONS REACHED LIMIT.\n",
            "\n",
            "Increase the number of iterations (max_iter) or scale the data as shown in:\n",
            "    https://scikit-learn.org/stable/modules/preprocessing.html\n",
            "Please also refer to the documentation for alternative solver options:\n",
            "    https://scikit-learn.org/stable/modules/linear_model.html#logistic-regression\n",
            "  n_iter_i = _check_optimize_result(\n",
            "/usr/local/lib/python3.11/dist-packages/sklearn/linear_model/_logistic.py:465: ConvergenceWarning: lbfgs failed to converge (status=1):\n",
            "STOP: TOTAL NO. of ITERATIONS REACHED LIMIT.\n",
            "\n",
            "Increase the number of iterations (max_iter) or scale the data as shown in:\n",
            "    https://scikit-learn.org/stable/modules/preprocessing.html\n",
            "Please also refer to the documentation for alternative solver options:\n",
            "    https://scikit-learn.org/stable/modules/linear_model.html#logistic-regression\n",
            "  n_iter_i = _check_optimize_result(\n",
            "/usr/local/lib/python3.11/dist-packages/sklearn/linear_model/_logistic.py:465: ConvergenceWarning: lbfgs failed to converge (status=1):\n",
            "STOP: TOTAL NO. of ITERATIONS REACHED LIMIT.\n",
            "\n",
            "Increase the number of iterations (max_iter) or scale the data as shown in:\n",
            "    https://scikit-learn.org/stable/modules/preprocessing.html\n",
            "Please also refer to the documentation for alternative solver options:\n",
            "    https://scikit-learn.org/stable/modules/linear_model.html#logistic-regression\n",
            "  n_iter_i = _check_optimize_result(\n",
            "/usr/local/lib/python3.11/dist-packages/sklearn/linear_model/_logistic.py:465: ConvergenceWarning: lbfgs failed to converge (status=1):\n",
            "STOP: TOTAL NO. of ITERATIONS REACHED LIMIT.\n",
            "\n",
            "Increase the number of iterations (max_iter) or scale the data as shown in:\n",
            "    https://scikit-learn.org/stable/modules/preprocessing.html\n",
            "Please also refer to the documentation for alternative solver options:\n",
            "    https://scikit-learn.org/stable/modules/linear_model.html#logistic-regression\n",
            "  n_iter_i = _check_optimize_result(\n",
            "/usr/local/lib/python3.11/dist-packages/sklearn/linear_model/_logistic.py:465: ConvergenceWarning: lbfgs failed to converge (status=1):\n",
            "STOP: TOTAL NO. of ITERATIONS REACHED LIMIT.\n",
            "\n",
            "Increase the number of iterations (max_iter) or scale the data as shown in:\n",
            "    https://scikit-learn.org/stable/modules/preprocessing.html\n",
            "Please also refer to the documentation for alternative solver options:\n",
            "    https://scikit-learn.org/stable/modules/linear_model.html#logistic-regression\n",
            "  n_iter_i = _check_optimize_result(\n",
            "/usr/local/lib/python3.11/dist-packages/sklearn/linear_model/_logistic.py:465: ConvergenceWarning: lbfgs failed to converge (status=1):\n",
            "STOP: TOTAL NO. of ITERATIONS REACHED LIMIT.\n",
            "\n",
            "Increase the number of iterations (max_iter) or scale the data as shown in:\n",
            "    https://scikit-learn.org/stable/modules/preprocessing.html\n",
            "Please also refer to the documentation for alternative solver options:\n",
            "    https://scikit-learn.org/stable/modules/linear_model.html#logistic-regression\n",
            "  n_iter_i = _check_optimize_result(\n",
            "/usr/local/lib/python3.11/dist-packages/sklearn/linear_model/_logistic.py:465: ConvergenceWarning: lbfgs failed to converge (status=1):\n",
            "STOP: TOTAL NO. of ITERATIONS REACHED LIMIT.\n",
            "\n",
            "Increase the number of iterations (max_iter) or scale the data as shown in:\n",
            "    https://scikit-learn.org/stable/modules/preprocessing.html\n",
            "Please also refer to the documentation for alternative solver options:\n",
            "    https://scikit-learn.org/stable/modules/linear_model.html#logistic-regression\n",
            "  n_iter_i = _check_optimize_result(\n",
            "/usr/local/lib/python3.11/dist-packages/sklearn/linear_model/_logistic.py:465: ConvergenceWarning: lbfgs failed to converge (status=1):\n",
            "STOP: TOTAL NO. of ITERATIONS REACHED LIMIT.\n",
            "\n",
            "Increase the number of iterations (max_iter) or scale the data as shown in:\n",
            "    https://scikit-learn.org/stable/modules/preprocessing.html\n",
            "Please also refer to the documentation for alternative solver options:\n",
            "    https://scikit-learn.org/stable/modules/linear_model.html#logistic-regression\n",
            "  n_iter_i = _check_optimize_result(\n",
            "/usr/local/lib/python3.11/dist-packages/sklearn/linear_model/_logistic.py:465: ConvergenceWarning: lbfgs failed to converge (status=1):\n",
            "STOP: TOTAL NO. of ITERATIONS REACHED LIMIT.\n",
            "\n",
            "Increase the number of iterations (max_iter) or scale the data as shown in:\n",
            "    https://scikit-learn.org/stable/modules/preprocessing.html\n",
            "Please also refer to the documentation for alternative solver options:\n",
            "    https://scikit-learn.org/stable/modules/linear_model.html#logistic-regression\n",
            "  n_iter_i = _check_optimize_result(\n"
          ]
        },
        {
          "output_type": "stream",
          "name": "stdout",
          "text": [
            "AUC Score: 0.9973544973544973\n"
          ]
        },
        {
          "output_type": "stream",
          "name": "stderr",
          "text": [
            "/usr/local/lib/python3.11/dist-packages/sklearn/linear_model/_logistic.py:465: ConvergenceWarning: lbfgs failed to converge (status=1):\n",
            "STOP: TOTAL NO. of ITERATIONS REACHED LIMIT.\n",
            "\n",
            "Increase the number of iterations (max_iter) or scale the data as shown in:\n",
            "    https://scikit-learn.org/stable/modules/preprocessing.html\n",
            "Please also refer to the documentation for alternative solver options:\n",
            "    https://scikit-learn.org/stable/modules/linear_model.html#logistic-regression\n",
            "  n_iter_i = _check_optimize_result(\n"
          ]
        }
      ]
    },
    {
      "cell_type": "markdown",
      "source": [
        "8/  Train a Random Forest Regressor and analyze feature importance scores."
      ],
      "metadata": {
        "id": "hv0yoO3rW47Y"
      }
    },
    {
      "cell_type": "code",
      "source": [
        "from sklearn.ensemble import RandomForestRegressor\n",
        "from sklearn.model_selection import train_test_split\n",
        "import pandas as pd\n",
        "\n",
        "iris = load_iris()\n",
        "X, y = iris.data, iris.target\n",
        "\n",
        "\n",
        "X_train, X_test, y_train, y_test = train_test_split(X, y, test_size=0.3, random_state=42)\n",
        "\n",
        "\n",
        "rf_regressor = RandomForestRegressor(n_estimators=100, random_state=42)\n",
        "\n",
        "\n",
        "rf_regressor.fit(X_train, y_train)\n",
        "\n",
        "\n",
        "feature_importances = rf_regressor.feature_importances_\n",
        "\n",
        "\n",
        "feature_importance_df = pd.DataFrame({\n",
        "    'Feature': iris.feature_names,\n",
        "    'Importance': feature_importances\n",
        "})\n",
        "\n",
        "\n",
        "feature_importance_df = feature_importance_df.sort_values(by='Importance', ascending=False)\n",
        "\n",
        "\n",
        "print(feature_importance_df)"
      ],
      "metadata": {
        "colab": {
          "base_uri": "https://localhost:8080/"
        },
        "id": "12_eEzINVAAr",
        "outputId": "79f86c81-b7c6-431f-8315-d63306b3c031"
      },
      "execution_count": null,
      "outputs": [
        {
          "output_type": "stream",
          "name": "stdout",
          "text": [
            "             Feature  Importance\n",
            "3   petal width (cm)    0.494224\n",
            "2  petal length (cm)    0.488284\n",
            "1   sepal width (cm)    0.010194\n",
            "0  sepal length (cm)    0.007299\n"
          ]
        }
      ]
    },
    {
      "cell_type": "markdown",
      "source": [
        "9/ Train an ensemble model using both Bagging and Random Forest and compare accuracy."
      ],
      "metadata": {
        "id": "bC56IKo0VR76"
      }
    },
    {
      "cell_type": "code",
      "source": [
        "from sklearn.ensemble import BaggingClassifier, RandomForestClassifier\n",
        "from sklearn.tree import DecisionTreeClassifier\n",
        "from sklearn.datasets import load_breast_cancer\n",
        "from sklearn.model_selection import train_test_split\n",
        "from sklearn.metrics import accuracy_score\n",
        "\n",
        "\n",
        "data = load_breast_cancer()\n",
        "X, y = data.data, data.target\n",
        "\n",
        "\n",
        "X_train, X_test, y_train, y_test = train_test_split(X, y, test_size=0.2, random_state=42)\n",
        "\n",
        "\n",
        "bagging_classifier = BaggingClassifier(estimator=DecisionTreeClassifier(), n_estimators=100, random_state=42)\n",
        "bagging_classifier.fit(X_train, y_train)\n",
        "\n",
        "\n",
        "random_forest_classifier = RandomForestClassifier(n_estimators=100, random_state=42)\n",
        "random_forest_classifier.fit(X_train, y_train)\n",
        "\n",
        "\n",
        "bagging_predictions = bagging_classifier.predict(X_test)\n",
        "random_forest_predictions = random_forest_classifier.predict(X_test)\n",
        "\n",
        "\n",
        "bagging_accuracy = accuracy_score(y_test, bagging_predictions)\n",
        "random_forest_accuracy = accuracy_score(y_test, random_forest_predictions)\n",
        "\n",
        "\n",
        "print(f\"Bagging Classifier Accuracy: {bagging_accuracy}\")\n",
        "print(f\"Random Forest Classifier Accuracy: {random_forest_accuracy}\")\n",
        "\n",
        "# Compare accuracy\n",
        "print(f\"Random Forest performs better: {random_forest_accuracy > bagging_accuracy}\")"
      ],
      "metadata": {
        "colab": {
          "base_uri": "https://localhost:8080/"
        },
        "id": "3J5APmwUVRbn",
        "outputId": "870cd669-5870-438c-9794-7c5e375c725e"
      },
      "execution_count": null,
      "outputs": [
        {
          "output_type": "stream",
          "name": "stdout",
          "text": [
            "Bagging Classifier Accuracy: 0.956140350877193\n",
            "Random Forest Classifier Accuracy: 0.9649122807017544\n",
            "Random Forest performs better: True\n"
          ]
        }
      ]
    },
    {
      "cell_type": "markdown",
      "source": [
        "10/ Train a Random Forest Classifier and tune hyperparameters using GridSearchCV."
      ],
      "metadata": {
        "id": "Nxc8KPRoYSeF"
      }
    },
    {
      "cell_type": "code",
      "source": [
        "from sklearn.ensemble import RandomForestClassifier\n",
        "from sklearn.datasets import load_breast_cancer\n",
        "from sklearn.model_selection import train_test_split, GridSearchCV\n",
        "from sklearn.metrics import accuracy_score\n",
        "\n",
        "\n",
        "data = load_breast_cancer()\n",
        "X, y = data.data, data.target\n",
        "\n",
        "\n",
        "X_train, X_test, y_train, y_test = train_test_split(X, y, test_size=0.2, random_state=42)\n",
        "\n",
        "\n",
        "param_grid = {\n",
        "    'n_estimators': [100, 200, 300],\n",
        "    'max_depth': [None, 5, 10],\n",
        "    'min_samples_split': [2, 5, 10],\n",
        "    'min_samples_leaf': [1, 2, 4]\n",
        "}\n",
        "\n",
        "\n",
        "rf_classifier = RandomForestClassifier(random_state=42)\n",
        "\n",
        "\n",
        "grid_search = GridSearchCV(estimator=rf_classifier, param_grid=param_grid, scoring='accuracy', cv=5)\n",
        "\n",
        "\n",
        "grid_search.fit(X_train, y_train)\n",
        "\n",
        "\n",
        "print(\"Best Parameters:\", grid_search.best_params_)\n",
        "print(\"Best Score:\", grid_search.best_score_)\n",
        "\n",
        "\n",
        "best_rf_classifier = grid_search.best_estimator_\n",
        "y_pred = best_rf_classifier.predict(X_test)\n",
        "accuracy = accuracy_score(y_test, y_pred)\n",
        "print(\"Test Accuracy:\", accuracy)"
      ],
      "metadata": {
        "colab": {
          "base_uri": "https://localhost:8080/"
        },
        "id": "0I4NJlMZYO_3",
        "outputId": "c951b1ad-1f3a-4974-ba9f-5563f2d377de"
      },
      "execution_count": null,
      "outputs": [
        {
          "output_type": "stream",
          "name": "stdout",
          "text": [
            "Best Parameters: {'max_depth': None, 'min_samples_leaf': 1, 'min_samples_split': 2, 'n_estimators': 200}\n",
            "Best Score: 0.9626373626373625\n",
            "Test Accuracy: 0.9649122807017544\n"
          ]
        }
      ]
    },
    {
      "cell_type": "markdown",
      "source": [
        "11/ Train a Bagging Regressor with different numbers of base estimators and compare performance."
      ],
      "metadata": {
        "id": "xfIN5Df2YTFq"
      }
    },
    {
      "cell_type": "code",
      "source": [
        "from sklearn.ensemble import BaggingRegressor\n",
        "from sklearn.tree import DecisionTreeRegressor\n",
        "from sklearn.model_selection import train_test_split\n",
        "from sklearn.metrics import mean_squared_error\n",
        "\n",
        "\n",
        "iris = load_iris()\n",
        "X, y = iris.data, iris.target\n",
        "\n",
        "\n",
        "X_train, X_test, y_train, y_test = train_test_split(X, y, test_size=0.3, random_state=42)\n",
        "\n",
        "\n",
        "n_estimators_list = [10, 50, 100, 200]\n",
        "\n",
        "\n",
        "for n_estimators in n_estimators_list:\n",
        "\n",
        "    bagging_regressor = BaggingRegressor(estimator=DecisionTreeRegressor(), n_estimators=n_estimators, random_state=42)\n",
        "\n",
        "\n",
        "    bagging_regressor.fit(X_train, y_train)\n",
        "\n",
        "\n",
        "    y_pred = bagging_regressor.predict(X_test)\n",
        "\n",
        "\n",
        "    mse = mean_squared_error(y_test, y_pred)\n",
        "    print(f\"n_estimators = {n_estimators}, MSE: {mse}\")"
      ],
      "metadata": {
        "colab": {
          "base_uri": "https://localhost:8080/"
        },
        "id": "cXI2-5fSYTv3",
        "outputId": "05eea80b-3e1c-4051-844b-597865f9eb08"
      },
      "execution_count": null,
      "outputs": [
        {
          "output_type": "stream",
          "name": "stdout",
          "text": [
            "n_estimators = 10, MSE: 0.0022222222222222222\n",
            "n_estimators = 50, MSE: 0.0005511111111111121\n",
            "n_estimators = 100, MSE: 0.0003688888888888895\n",
            "n_estimators = 200, MSE: 0.0006966666666666666\n"
          ]
        }
      ]
    },
    {
      "cell_type": "markdown",
      "source": [
        "12/ Train a Random Forest Classifier and analyze misclassified samples."
      ],
      "metadata": {
        "id": "nOwWLMwaYUOo"
      }
    },
    {
      "cell_type": "code",
      "source": [
        "import pandas as pd\n",
        "from sklearn.ensemble import RandomForestClassifier\n",
        "from sklearn.datasets import load_breast_cancer\n",
        "from sklearn.model_selection import train_test_split\n",
        "from sklearn.metrics import accuracy_score\n",
        "\n",
        "\n",
        "data = load_breast_cancer()\n",
        "X, y = data.data, data.target\n",
        "feature_names = data.feature_names\n",
        "\n",
        "\n",
        "X_train, X_test, y_train, y_test = train_test_split(X, y, test_size=0.2, random_state=42)\n",
        "\n",
        "\n",
        "rf_classifier = RandomForestClassifier(n_estimators=100, random_state=42)\n",
        "rf_classifier.fit(X_train, y_train)\n",
        "\n",
        "y_pred = rf_classifier.predict(X_test)\n",
        "\n",
        "accuracy = accuracy_score(y_test, y_pred)\n",
        "print(f\"Accuracy: {accuracy}\")\n",
        "\n",
        "misclassified_indices = [i for i, (pred, true) in enumerate(zip(y_pred, y_test)) if pred != true]\n",
        "\n",
        "misclassified_samples = pd.DataFrame(X_test[misclassified_indices], columns=feature_names)\n",
        "misclassified_samples['True_Class'] = y_test[misclassified_indices]\n",
        "misclassified_samples['Predicted_Class'] = y_pred[misclassified_indices]\n",
        "\n",
        "\n",
        "print(misclassified_samples)\n",
        "\n"
      ],
      "metadata": {
        "colab": {
          "base_uri": "https://localhost:8080/"
        },
        "id": "8vxccc31YUp5",
        "outputId": "b7ed3713-f370-43b7-9d12-8e31d9813386"
      },
      "execution_count": null,
      "outputs": [
        {
          "output_type": "stream",
          "name": "stdout",
          "text": [
            "Accuracy: 0.9649122807017544\n",
            "   mean radius  mean texture  mean perimeter  mean area  mean smoothness  \\\n",
            "0        13.34         15.86           86.49      520.0          0.10780   \n",
            "1        13.80         15.79           90.43      584.1          0.10070   \n",
            "2        13.96         17.05           91.43      602.4          0.10960   \n",
            "3        14.48         21.46           94.25      648.2          0.09444   \n",
            "\n",
            "   mean compactness  mean concavity  mean concave points  mean symmetry  \\\n",
            "0           0.15350         0.11690              0.06987         0.1942   \n",
            "1           0.12800         0.07789              0.05069         0.1662   \n",
            "2           0.12790         0.09789              0.05246         0.1908   \n",
            "3           0.09947         0.12040              0.04938         0.2075   \n",
            "\n",
            "   mean fractal dimension  ...  worst perimeter  worst area  worst smoothness  \\\n",
            "0                 0.06902  ...            96.66       614.9            0.1536   \n",
            "1                 0.06566  ...           110.30       812.4            0.1411   \n",
            "2                 0.06130  ...           108.10       826.0            0.1512   \n",
            "3                 0.05636  ...           108.40       808.9            0.1306   \n",
            "\n",
            "   worst compactness  worst concavity  worst concave points  worst symmetry  \\\n",
            "0             0.4791           0.4858                0.1708          0.3527   \n",
            "1             0.3542           0.2779                0.1383          0.2589   \n",
            "2             0.3262           0.3209                0.1374          0.3068   \n",
            "3             0.1976           0.3349                0.1225          0.3020   \n",
            "\n",
            "   worst fractal dimension  True_Class  Predicted_Class  \n",
            "0                  0.10160           1                0  \n",
            "1                  0.10300           0                1  \n",
            "2                  0.07957           0                1  \n",
            "3                  0.06846           0                1  \n",
            "\n",
            "[4 rows x 32 columns]\n"
          ]
        }
      ]
    },
    {
      "cell_type": "markdown",
      "source": [
        "13/ Train a Bagging Classifier and compare its performance with a single Decision Tree Classifier."
      ],
      "metadata": {
        "id": "4uahinKjaHeU"
      }
    },
    {
      "cell_type": "code",
      "source": [
        "from sklearn.ensemble import BaggingClassifier\n",
        "from sklearn.tree import DecisionTreeClassifier\n",
        "from sklearn.datasets import load_breast_cancer\n",
        "from sklearn.model_selection import train_test_split\n",
        "from sklearn.metrics import accuracy_score\n",
        "\n",
        "# Load the Breast Cancer dataset\n",
        "data = load_breast_cancer()\n",
        "X, y = data.data, data.target\n",
        "\n",
        "# Split data into training and testing sets\n",
        "X_train, X_test, y_train, y_test = train_test_split(X, y, test_size=0.2, random_state=42)\n",
        "\n",
        "\n",
        "bagging_classifier = BaggingClassifier(estimator=DecisionTreeClassifier(), n_estimators=100, random_state=42)\n",
        "bagging_classifier.fit(X_train, y_train)\n",
        "\n",
        "\n",
        "decision_tree_classifier = DecisionTreeClassifier(random_state=42)\n",
        "decision_tree_classifier.fit(X_train, y_train)\n",
        "\n",
        "\n",
        "bagging_predictions = bagging_classifier.predict(X_test)\n",
        "decision_tree_predictions = decision_tree_classifier.predict(X_test)\n",
        "\n",
        "\n",
        "bagging_accuracy = accuracy_score(y_test, bagging_predictions)\n",
        "decision_tree_accuracy = accuracy_score(y_test, decision_tree_predictions)\n",
        "\n",
        "\n",
        "print(f\"Bagging Classifier Accuracy: {bagging_accuracy}\")\n",
        "print(f\"Decision Tree Classifier Accuracy: {decision_tree_accuracy}\")\n",
        "\n",
        "\n",
        "print(f\"Bagging performs better: {bagging_accuracy > decision_tree_accuracy}\")"
      ],
      "metadata": {
        "colab": {
          "base_uri": "https://localhost:8080/"
        },
        "id": "Lcz-YvYtZ1Yg",
        "outputId": "7e7c1647-f566-4c10-b3ca-475f70c34904"
      },
      "execution_count": null,
      "outputs": [
        {
          "output_type": "stream",
          "name": "stdout",
          "text": [
            "Bagging Classifier Accuracy: 0.956140350877193\n",
            "Decision Tree Classifier Accuracy: 0.9473684210526315\n",
            "Bagging performs better: True\n"
          ]
        }
      ]
    },
    {
      "cell_type": "markdown",
      "source": [
        "14/ Train a Random Forest Classifier and visualize the confusion matrix."
      ],
      "metadata": {
        "id": "B-SnkeOgaIra"
      }
    },
    {
      "cell_type": "code",
      "source": [
        "import matplotlib.pyplot as plt\n",
        "import seaborn as sns\n",
        "from sklearn.ensemble import RandomForestClassifier\n",
        "from sklearn.datasets import load_breast_cancer\n",
        "from sklearn.model_selection import train_test_split\n",
        "from sklearn.metrics import confusion_matrix\n",
        "\n",
        "\n",
        "data = load_breast_cancer()\n",
        "X, y = data.data, data.target\n",
        "\n",
        "\n",
        "X_train, X_test, y_train, y_test = train_test_split(X, y, test_size=0.2, random_state=42)\n",
        "\n",
        "\n",
        "rf_classifier = RandomForestClassifier(n_estimators=100, random_state=42)\n",
        "rf_classifier.fit(X_train, y_train)\n",
        "\n",
        "\n",
        "y_pred = rf_classifier.predict(X_test)\n",
        "\n",
        "\n",
        "cm = confusion_matrix(y_test, y_pred)\n",
        "\n",
        "\n",
        "plt.figure(figsize=(8, 6))\n",
        "sns.heatmap(cm, annot=True, fmt=\"d\", cmap=\"Blues\",\n",
        "            xticklabels=data.target_names, yticklabels=data.target_names)\n",
        "plt.xlabel(\"Predicted Label\")\n",
        "plt.ylabel(\"True Label\")\n",
        "plt.title(\"Confusion Matrix for Random Forest Classifier\")\n",
        "plt.show()"
      ],
      "metadata": {
        "id": "YnQ17eSJaJF_"
      },
      "execution_count": null,
      "outputs": []
    },
    {
      "cell_type": "markdown",
      "source": [
        "15/ Train a Stacking Classifier using Decision Trees, SVM, and Logistic Regression, and compare accuracy."
      ],
      "metadata": {
        "id": "8mijOI04aJiZ"
      }
    },
    {
      "cell_type": "code",
      "source": [
        "from sklearn.ensemble import StackingClassifier\n",
        "from sklearn.tree import DecisionTreeClassifier\n",
        "from sklearn.svm import SVC\n",
        "from sklearn.linear_model import LogisticRegression\n",
        "from sklearn.datasets import load_breast_cancer\n",
        "from sklearn.model_selection import train_test_split\n",
        "from sklearn.metrics import accuracy_score\n",
        "\n",
        "data = load_breast_cancer()\n",
        "X, y = data.data, data.target\n",
        "\n",
        "# Split data into training and testing sets\n",
        "X_train, X_test, y_train, y_test = train_test_split(X, y, test_size=0.2, random_state=42)\n",
        "\n",
        "estimators = [\n",
        "    ('dt', DecisionTreeClassifier(random_state=42)),\n",
        "    ('svm', SVC(random_state=42)),\n",
        "    ('lr', LogisticRegression(max_iter=1000, random_state=42)),  # Increased max_iter for convergence\n",
        "]\n",
        "\n",
        "# Define final estimator (meta-learner)\n",
        "final_estimator = LogisticRegression(max_iter=1000, random_state=42)  # Increased max_iter for convergence\n",
        "\n",
        "stacking_classifier = StackingClassifier(estimators=estimators, final_estimator=final_estimator)\n",
        "\n",
        "# Train the Stacking Classifier\n",
        "stacking_classifier.fit(X_train, y_train)\n",
        "\n",
        "y_pred = stacking_classifier.predict(X_test)\n",
        "\n",
        "# Calculate accuracy score\n",
        "accuracy = accuracy_score(y_test, y_pred)\n",
        "print(f\"Stacking Classifier Accuracy: {accuracy}\")\n",
        "\n",
        "\n",
        "\n",
        "\n"
      ],
      "metadata": {
        "id": "qb8YFB5zaJ9b",
        "colab": {
          "base_uri": "https://localhost:8080/"
        },
        "outputId": "92d57a04-f0af-4e44-9010-ca00099f2bea"
      },
      "execution_count": null,
      "outputs": [
        {
          "output_type": "stream",
          "name": "stderr",
          "text": [
            "/usr/local/lib/python3.11/dist-packages/sklearn/linear_model/_logistic.py:465: ConvergenceWarning: lbfgs failed to converge (status=1):\n",
            "STOP: TOTAL NO. of ITERATIONS REACHED LIMIT.\n",
            "\n",
            "Increase the number of iterations (max_iter) or scale the data as shown in:\n",
            "    https://scikit-learn.org/stable/modules/preprocessing.html\n",
            "Please also refer to the documentation for alternative solver options:\n",
            "    https://scikit-learn.org/stable/modules/linear_model.html#logistic-regression\n",
            "  n_iter_i = _check_optimize_result(\n",
            "/usr/local/lib/python3.11/dist-packages/sklearn/linear_model/_logistic.py:465: ConvergenceWarning: lbfgs failed to converge (status=1):\n",
            "STOP: TOTAL NO. of ITERATIONS REACHED LIMIT.\n",
            "\n",
            "Increase the number of iterations (max_iter) or scale the data as shown in:\n",
            "    https://scikit-learn.org/stable/modules/preprocessing.html\n",
            "Please also refer to the documentation for alternative solver options:\n",
            "    https://scikit-learn.org/stable/modules/linear_model.html#logistic-regression\n",
            "  n_iter_i = _check_optimize_result(\n",
            "/usr/local/lib/python3.11/dist-packages/sklearn/linear_model/_logistic.py:465: ConvergenceWarning: lbfgs failed to converge (status=1):\n",
            "STOP: TOTAL NO. of ITERATIONS REACHED LIMIT.\n",
            "\n",
            "Increase the number of iterations (max_iter) or scale the data as shown in:\n",
            "    https://scikit-learn.org/stable/modules/preprocessing.html\n",
            "Please also refer to the documentation for alternative solver options:\n",
            "    https://scikit-learn.org/stable/modules/linear_model.html#logistic-regression\n",
            "  n_iter_i = _check_optimize_result(\n",
            "/usr/local/lib/python3.11/dist-packages/sklearn/linear_model/_logistic.py:465: ConvergenceWarning: lbfgs failed to converge (status=1):\n",
            "STOP: TOTAL NO. of ITERATIONS REACHED LIMIT.\n",
            "\n",
            "Increase the number of iterations (max_iter) or scale the data as shown in:\n",
            "    https://scikit-learn.org/stable/modules/preprocessing.html\n",
            "Please also refer to the documentation for alternative solver options:\n",
            "    https://scikit-learn.org/stable/modules/linear_model.html#logistic-regression\n",
            "  n_iter_i = _check_optimize_result(\n",
            "/usr/local/lib/python3.11/dist-packages/sklearn/linear_model/_logistic.py:465: ConvergenceWarning: lbfgs failed to converge (status=1):\n",
            "STOP: TOTAL NO. of ITERATIONS REACHED LIMIT.\n",
            "\n",
            "Increase the number of iterations (max_iter) or scale the data as shown in:\n",
            "    https://scikit-learn.org/stable/modules/preprocessing.html\n",
            "Please also refer to the documentation for alternative solver options:\n",
            "    https://scikit-learn.org/stable/modules/linear_model.html#logistic-regression\n",
            "  n_iter_i = _check_optimize_result(\n"
          ]
        },
        {
          "output_type": "stream",
          "name": "stdout",
          "text": [
            "Stacking Classifier Accuracy: 0.9649122807017544\n"
          ]
        },
        {
          "output_type": "stream",
          "name": "stderr",
          "text": [
            "/usr/local/lib/python3.11/dist-packages/sklearn/linear_model/_logistic.py:465: ConvergenceWarning: lbfgs failed to converge (status=1):\n",
            "STOP: TOTAL NO. of ITERATIONS REACHED LIMIT.\n",
            "\n",
            "Increase the number of iterations (max_iter) or scale the data as shown in:\n",
            "    https://scikit-learn.org/stable/modules/preprocessing.html\n",
            "Please also refer to the documentation for alternative solver options:\n",
            "    https://scikit-learn.org/stable/modules/linear_model.html#logistic-regression\n",
            "  n_iter_i = _check_optimize_result(\n"
          ]
        }
      ]
    },
    {
      "cell_type": "markdown",
      "source": [
        "16/ Train a Random Forest Classifier and print the top 5 most important features."
      ],
      "metadata": {
        "id": "qzxFQfD-0-Cq"
      }
    },
    {
      "cell_type": "code",
      "source": [
        "import pandas as pd\n",
        "from sklearn.ensemble import RandomForestClassifier\n",
        "from sklearn.datasets import load_breast_cancer # Using Breast Cancer dataset as an example\n",
        "from sklearn.model_selection import train_test_split\n",
        "\n",
        "data = load_breast_cancer()\n",
        "X, y = data.data, data.target\n",
        "feature_names = data.feature_names  # Get feature names for later use\n",
        "\n",
        "# Split data into training and testing sets\n",
        "X_train, X_test, y_train, y_test = train_test_split(X, y, test_size=0.2, random_state=42)\n",
        "\n",
        "rf_classifier = RandomForestClassifier(n_estimators=100, random_state=42)\n",
        "\n",
        "\n",
        "rf_classifier.fit(X_train, y_train)\n",
        "\n",
        "\n",
        "\n",
        "feature_importances = rf_classifier.feature_importances_\n",
        "\n",
        "\n",
        "feature_importance_df = pd.DataFrame({\n",
        "    'Feature': feature_names,\n",
        "    'Importance': feature_importances\n",
        "})\n",
        "\n",
        "\n",
        "top_5_features = feature_importance_df.sort_values(by='Importance', ascending=False).head(5)\n",
        "\n",
        "# Print the top 5 features\n",
        "print(top_5_features)\n",
        "\n",
        "\n",
        "\n"
      ],
      "metadata": {
        "colab": {
          "base_uri": "https://localhost:8080/"
        },
        "id": "j8JPV8RK0-eU",
        "outputId": "cf02ed98-15b6-4791-e20a-bd67ff2698cd"
      },
      "execution_count": null,
      "outputs": [
        {
          "output_type": "stream",
          "name": "stdout",
          "text": [
            "                 Feature  Importance\n",
            "23            worst area    0.153892\n",
            "27  worst concave points    0.144663\n",
            "7    mean concave points    0.106210\n",
            "20          worst radius    0.077987\n",
            "6         mean concavity    0.068001\n"
          ]
        }
      ]
    },
    {
      "cell_type": "markdown",
      "source": [
        "17/ Train a Bagging Classifier and evaluate performance using Precision, Recall, and F1-score."
      ],
      "metadata": {
        "id": "cR6qlbGs0-3n"
      }
    },
    {
      "cell_type": "code",
      "source": [
        "from sklearn.ensemble import BaggingClassifier\n",
        "from sklearn.tree import DecisionTreeClassifier # Using Decision Tree as the base estimator\n",
        "from sklearn.model_selection import train_test_split\n",
        "from sklearn.metrics import accuracy_score, precision_score, recall_score, f1_score\n",
        "from sklearn.datasets import load_breast_cancer # Using Breast Cancer dataset as an example\n",
        "\n",
        "\n",
        "# Load the Breast Cancer dataset\n",
        "data = load_breast_cancer()\n",
        "X, y = data.data, data.target\n",
        "\n",
        "# Split the data into training and testing sets\n",
        "X_train, X_test, y_train, y_test = train_test_split(X, y, test_size=0.3, random_state=42)\n",
        "\n",
        "\n",
        "# Create a Bagging Classifier with Decision Tree as the base estimator\n",
        "bagging_classifier = BaggingClassifier(estimator=DecisionTreeClassifier(), n_estimators=100, random_state=42)\n",
        "\n",
        "# Train the classifier\n",
        "bagging_classifier.fit(X_train, y_train)\n",
        "\n",
        "\n",
        "# Make predictions on the testing data\n",
        "y_pred = bagging_classifier.predict(X_test)\n",
        "\n",
        "# Calculate Accuracy, Precision, Recall, and F1-score\n",
        "accuracy = accuracy_score(y_test, y_pred)\n",
        "precision = precision_score(y_test, y_pred)\n",
        "recall = recall_score(y_test, y_pred)\n",
        "f1 = f1_score(y_test, y_pred)\n",
        "\n",
        "# Print the evaluation metrics\n",
        "print(f\"Accuracy: {accuracy}\")\n",
        "print(f\"Precision: {precision}\")\n",
        "print(f\"Recall: {recall}\")\n",
        "print(f\"F1-score: {f1}\")"
      ],
      "metadata": {
        "colab": {
          "base_uri": "https://localhost:8080/"
        },
        "id": "E913615A0_VA",
        "outputId": "5c8251ba-e195-47c0-9576-cf6b610493f8"
      },
      "execution_count": null,
      "outputs": [
        {
          "output_type": "stream",
          "name": "stdout",
          "text": [
            "Accuracy: 0.9590643274853801\n",
            "Precision: 0.963302752293578\n",
            "Recall: 0.9722222222222222\n",
            "F1-score: 0.967741935483871\n"
          ]
        }
      ]
    },
    {
      "cell_type": "markdown",
      "source": [
        "18/ Train a Random Forest Classifier and analyze the effect of max_depth on accuracy."
      ],
      "metadata": {
        "id": "QHQuGZL22-1r"
      }
    },
    {
      "cell_type": "code",
      "source": [
        "import matplotlib.pyplot as plt\n",
        "from sklearn.ensemble import RandomForestClassifier\n",
        "from sklearn.datasets import load_breast_cancer # Using Breast Cancer dataset\n",
        "from sklearn.model_selection import train_test_split\n",
        "from sklearn.metrics import accuracy_score\n",
        "\n",
        "\n",
        "# Load the Breast Cancer dataset\n",
        "data = load_breast_cancer()\n",
        "X, y = data.data, data.target\n",
        "\n",
        "# Split the data into training and testing sets\n",
        "X_train, X_test, y_train, y_test = train_test_split(X, y, test_size=0.3, random_state=42)\n",
        "\n",
        "\n",
        "max_depths = range(1, 21)\n",
        "accuracies = []\n",
        "\n",
        "for depth in max_depths:\n",
        "\n",
        "    rf_classifier = RandomForestClassifier(n_estimators=100, max_depth=depth, random_state=42)\n",
        "\n",
        "\n",
        "    rf_classifier.fit(X_train, y_train)\n",
        "\n",
        "\n",
        "    y_pred = rf_classifier.predict(X_test)\n",
        "\n",
        "\n",
        "    accuracy = accuracy_score(y_test, y_pred)\n",
        "    accuracies.append(accuracy)\n",
        "\n",
        "\n",
        "\n",
        "plt.plot(max_depths, accuracies)\n",
        "plt.xlabel(\"max_depth\")\n",
        "plt.ylabel(\"Accuracy\")\n",
        "plt.title(\"Effect of max_depth on Random Forest Accuracy\")\n",
        "plt.show()"
      ],
      "metadata": {
        "colab": {
          "base_uri": "https://localhost:8080/",
          "height": 472
        },
        "id": "fkHlJZN22xe9",
        "outputId": "1bfa8a0b-edbc-44da-c5e4-4e12f682fd02"
      },
      "execution_count": null,
      "outputs": [
        {
          "output_type": "display_data",
          "data": {
            "text/plain": [
              "<Figure size 640x480 with 1 Axes>"
            ],
            "image/png": "[encoded data removed]"
          },
          "metadata": {}
        }
      ]
    },
    {
      "cell_type": "markdown",
      "source": [
        "19/ Train a Random Forest Classifier and evaluate its performance using ROC-AUC Score."
      ],
      "metadata": {
        "id": "jvHhLN8928Ts"
      }
    },
    {
      "cell_type": "code",
      "source": [
        "from sklearn.ensemble import RandomForestClassifier\n",
        "from sklearn.datasets import load_breast_cancer\n",
        "from sklearn.model_selection import train_test_split\n",
        "from sklearn.metrics import roc_auc_score\n",
        "\n",
        "\n",
        "\n",
        "data = load_breast_cancer()\n",
        "X, y = data.data, data.target\n",
        "\n",
        "\n",
        "X_train, X_test, y_train, y_test = train_test_split(X, y, test_size=0.3, random_state=42)\n",
        "\n",
        "\n",
        "\n",
        "rf_classifier = RandomForestClassifier(n_estimators=100, random_state=42)\n",
        "\n",
        "\n",
        "rf_classifier.fit(X_train, y_train)\n",
        "\n",
        "\n",
        "\n",
        "y_pred_prob = rf_classifier.predict_proba(X_test)[:, 1]\n",
        "\n",
        "\n",
        "roc_auc = roc_auc_score(y_test, y_pred_prob)\n",
        "\n",
        "\n",
        "print(f\"ROC-AUC Score: {roc_auc}\")"
      ],
      "metadata": {
        "colab": {
          "base_uri": "https://localhost:8080/"
        },
        "id": "1agmksW_2845",
        "outputId": "eb27c5d9-4c3c-4ed4-fafc-bec10e13c369"
      },
      "execution_count": null,
      "outputs": [
        {
          "output_type": "stream",
          "name": "stdout",
          "text": [
            "ROC-AUC Score: 0.9968400940623163\n"
          ]
        }
      ]
    },
    {
      "cell_type": "markdown",
      "source": [
        "20/  Train a Bagging Classifier and evaluate its performance using cross-validation."
      ],
      "metadata": {
        "id": "-VLVa_Nt29XZ"
      }
    },
    {
      "cell_type": "code",
      "source": [
        "from sklearn.ensemble import BaggingClassifier\n",
        "from sklearn.tree import DecisionTreeClassifier\n",
        "from sklearn.model_selection import cross_val_score\n",
        "from sklearn.datasets import load_breast_cancer\n",
        "\n",
        "\n",
        "# Load the Breast Cancer dataset\n",
        "data = load_breast_cancer()\n",
        "X, y = data.data, data.target\n",
        "\n",
        "\n",
        "# Create a Bagging Classifier with Decision Tree as the base estimator\n",
        "bagging_classifier = BaggingClassifier(estimator=DecisionTreeClassifier(), n_estimators=100, random_state=42)\n",
        "\n",
        "\n",
        "\n",
        "# Perform 5-fold cross-validation and get accuracy scores for each fold\n",
        "scores = cross_val_score(bagging_classifier, X, y, cv=5, scoring='accuracy')\n",
        "\n",
        "# Print the accuracy scores for each fold\n",
        "print(\"Cross-validation scores:\", scores)\n",
        "\n",
        "# Print the average accuracy across all folds\n",
        "print(\"Average accuracy:\", scores.mean())"
      ],
      "metadata": {
        "colab": {
          "base_uri": "https://localhost:8080/"
        },
        "id": "Y0t4OpKa295A",
        "outputId": "f81c06d3-c447-4757-cdc9-9f8f3cd45123"
      },
      "execution_count": null,
      "outputs": [
        {
          "output_type": "stream",
          "name": "stdout",
          "text": [
            "Cross-validation scores: [0.89473684 0.93859649 0.99122807 0.96491228 1.        ]\n",
            "Average accuracy: 0.9578947368421054\n"
          ]
        }
      ]
    },
    {
      "cell_type": "markdown",
      "source": [
        "21/ Train a Random Forest Classifier and plot the Precision-Recall curve."
      ],
      "metadata": {
        "id": "9mLgprGH4jzv"
      }
    },
    {
      "cell_type": "code",
      "source": [
        "import matplotlib.pyplot as plt\n",
        "from sklearn.ensemble import RandomForestClassifier\n",
        "from sklearn.datasets import load_breast_cancer\n",
        "from sklearn.model_selection import train_test_split\n",
        "from sklearn.metrics import precision_recall_curve, average_precision_score\n",
        "\n",
        "\n",
        "\n",
        "data = load_breast_cancer()\n",
        "X, y = data.data, data.target\n",
        "\n",
        "\n",
        "X_train, X_test, y_train, y_test = train_test_split(X, y, test_size=0.3, random_state=42)\n",
        "\n",
        "\n",
        "\n",
        "rf_classifier = RandomForestClassifier(n_estimators=100, random_state=42)\n",
        "\n",
        "\n",
        "rf_classifier.fit(X_train, y_train)\n",
        "\n",
        "\n",
        "\n",
        "y_pred_prob = rf_classifier.predict_proba(X_test)[:, 1]\n",
        "\n",
        "\n",
        "precision, recall, thresholds = precision_recall_curve(y_test, y_pred_prob)\n",
        "\n",
        "\n",
        "average_precision = average_precision_score(y_test, y_pred_prob)\n",
        "\n",
        "\n",
        "\n",
        "plt.plot(recall, precision, label=f\"Average Precision: {average_precision:.2f}\")\n",
        "plt.xlabel(\"Recall\")\n",
        "plt.ylabel(\"Precision\")\n",
        "plt.title(\"Precision-Recall Curve for Random Forest Classifier\")\n",
        "plt.legend(loc=\"lower left\")\n",
        "plt.show()"
      ],
      "metadata": {
        "colab": {
          "base_uri": "https://localhost:8080/",
          "height": 472
        },
        "id": "2b38ttMg4eHZ",
        "outputId": "695ca645-e1d8-4ed8-f677-25f2c08d6bf6"
      },
      "execution_count": null,
      "outputs": [
        {
          "output_type": "display_data",
          "data": {
            "text/plain": [
              "<Figure size 640x480 with 1 Axes>"
            ],
            "image/png": "[encoded data removed]"
          },
          "metadata": {}
        }
      ]
    },
    {
      "cell_type": "markdown",
      "source": [
        "22/Train a Bagging Regressor with different levels of bootstrap samples and compare performance."
      ],
      "metadata": {
        "id": "WJAOepf94x6_"
      }
    },
    {
      "cell_type": "code",
      "source": [
        "import matplotlib.pyplot as plt\n",
        "from sklearn.ensemble import BaggingRegressor\n",
        "from sklearn.tree import DecisionTreeRegressor\n",
        "from sklearn.model_selection import train_test_split\n",
        "from sklearn.metrics import mean_squared_error\n",
        "from sklearn.datasets import load_iris\n",
        "\n",
        "\n",
        "\n",
        "iris = load_iris()\n",
        "X, y = iris.data, iris.target\n",
        "\n",
        "\n",
        "X_train, X_test, y_train, y_test = train_test_split(X, y, test_size=0.3, random_state=42)\n",
        "\n",
        "\n",
        "bootstrap_sizes = [0.5, 0.7, 0.9, 1.0]\n",
        "mse_scores = []\n",
        "\n",
        "for size in bootstrap_sizes:\n",
        "\n",
        "    bagging_regressor = BaggingRegressor(estimator=DecisionTreeRegressor(),\n",
        "                                        n_estimators=100,\n",
        "                                        max_samples=size,\n",
        "                                        random_state=42)\n",
        "\n",
        "\n",
        "    bagging_regressor.fit(X_train, y_train)\n",
        "\n",
        "\n",
        "    y_pred = bagging_regressor.predict(X_test)\n",
        "\n",
        "\n",
        "    mse = mean_squared_error(y_test, y_pred)\n",
        "    mse_scores.append(mse)\n",
        "\n",
        "\n",
        "\n",
        "plt.plot(bootstrap_sizes, mse_scores, marker='o')\n",
        "plt.xlabel(\"Bootstrap Sample Size (Proportion of Training Data)\")\n",
        "plt.ylabel(\"Mean Squared Error (MSE)\")\n",
        "plt.title(\"Effect of Bootstrap Sample Size on Bagging Regressor Performance\")\n",
        "plt.show()"
      ],
      "metadata": {
        "colab": {
          "base_uri": "https://localhost:8080/",
          "height": 472
        },
        "id": "UoElQ7Fa-FOk",
        "outputId": "9dee0a8a-7ac9-43e4-afd2-6fcb88aad1fa"
      },
      "execution_count": null,
      "outputs": [
        {
          "output_type": "display_data",
          "data": {
            "text/plain": [
              "<Figure size 640x480 with 1 Axes>"
            ],
            "image/png": "[encoded data removed]"
          },
          "metadata": {}
        }
      ]
    },
    {
      "cell_type": "code",
      "source": [],
      "metadata": {
        "id": "OqlKh_cV-cEf"
      },
      "execution_count": null,
      "outputs": []
    }
  ]
}